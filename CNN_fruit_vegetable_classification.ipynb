{
  "metadata": {
    "kernelspec": {
      "language": "python",
      "display_name": "Python 3",
      "name": "python3"
    },
    "language_info": {
      "pygments_lexer": "ipython3",
      "nbconvert_exporter": "python",
      "version": "3.6.4",
      "file_extension": ".py",
      "codemirror_mode": {
        "name": "ipython",
        "version": 3
      },
      "name": "python",
      "mimetype": "text/x-python"
    },
    "kaggle": {
      "accelerator": "nvidiaTeslaT4",
      "dataSources": [
        {
          "sourceId": 3173719,
          "sourceType": "datasetVersion",
          "datasetId": 952827
        }
      ],
      "dockerImageVersionId": 30407,
      "isInternetEnabled": false,
      "language": "python",
      "sourceType": "notebook",
      "isGpuEnabled": true
    },
    "colab": {
      "name": "CNN-fruit,vegetable classification",
      "provenance": [],
      "toc_visible": true
    }
  },
  "nbformat_minor": 0,
  "nbformat": 4,
  "cells": [
    {
      "source": [
        "\n",
        "# IMPORTANT: RUN THIS CELL IN ORDER TO IMPORT YOUR KAGGLE DATA SOURCES\n",
        "# TO THE CORRECT LOCATION (/kaggle/input) IN YOUR NOTEBOOK,\n",
        "# THEN FEEL FREE TO DELETE THIS CELL.\n",
        "# NOTE: THIS NOTEBOOK ENVIRONMENT DIFFERS FROM KAGGLE'S PYTHON\n",
        "# ENVIRONMENT SO THERE MAY BE MISSING LIBRARIES USED BY YOUR\n",
        "# NOTEBOOK.\n",
        "\n",
        "import os\n",
        "import sys\n",
        "from tempfile import NamedTemporaryFile\n",
        "from urllib.request import urlopen\n",
        "from urllib.parse import unquote, urlparse\n",
        "from urllib.error import HTTPError\n",
        "from zipfile import ZipFile\n",
        "import tarfile\n",
        "import shutil\n",
        "\n",
        "CHUNK_SIZE = 40960\n",
        "DATA_SOURCE_MAPPING = 'fruit-and-vegetable-image-recognition:https%3A%2F%2Fstorage.googleapis.com%2Fkaggle-data-sets%2F952827%2F3173719%2Fbundle%2Farchive.zip%3FX-Goog-Algorithm%3DGOOG4-RSA-SHA256%26X-Goog-Credential%3Dgcp-kaggle-com%2540kaggle-161607.iam.gserviceaccount.com%252F20240402%252Fauto%252Fstorage%252Fgoog4_request%26X-Goog-Date%3D20240402T123316Z%26X-Goog-Expires%3D259200%26X-Goog-SignedHeaders%3Dhost%26X-Goog-Signature%3D35a97ceef848925a148a5c931bbb73c2a2cb17babad2287d87eb01b93088d8d8fb9e6ae66a50fdc25c5d56fb301d2601eaa868ed22b9f7e9691aa2ec9670aeb5a926eeb1f0df65b1dd555b11e6a345e90b9fe6c697f63fb150f91dc4ff82360c0f80bb3aaa5eac91edb1139d7738b8be4f65d261dea1afea47a6d361aa7858e362c422499c1556e65e5be0d0477aa2e2f4abb51cb31d5a4cc14fc1086732911f1bbb087c0a30989922b32af9daf6cee8d97af99c6e085a3a54dabae907a78b22280a6593d82d397edc3dbc9de682e3b323a691843c2dfa27bd76fb2f71de4d59dd0d743f6889e6bcbe070a28390f3111e019b2aaea2543aa733f5e6e59445c9b'\n",
        "\n",
        "KAGGLE_INPUT_PATH='/kaggle/input'\n",
        "KAGGLE_WORKING_PATH='/kaggle/working'\n",
        "KAGGLE_SYMLINK='kaggle'\n",
        "\n",
        "!umount /kaggle/input/ 2> /dev/null\n",
        "shutil.rmtree('/kaggle/input', ignore_errors=True)\n",
        "os.makedirs(KAGGLE_INPUT_PATH, 0o777, exist_ok=True)\n",
        "os.makedirs(KAGGLE_WORKING_PATH, 0o777, exist_ok=True)\n",
        "\n",
        "try:\n",
        "  os.symlink(KAGGLE_INPUT_PATH, os.path.join(\"..\", 'input'), target_is_directory=True)\n",
        "except FileExistsError:\n",
        "  pass\n",
        "try:\n",
        "  os.symlink(KAGGLE_WORKING_PATH, os.path.join(\"..\", 'working'), target_is_directory=True)\n",
        "except FileExistsError:\n",
        "  pass\n",
        "\n",
        "for data_source_mapping in DATA_SOURCE_MAPPING.split(','):\n",
        "    directory, download_url_encoded = data_source_mapping.split(':')\n",
        "    download_url = unquote(download_url_encoded)\n",
        "    filename = urlparse(download_url).path\n",
        "    destination_path = os.path.join(KAGGLE_INPUT_PATH, directory)\n",
        "    try:\n",
        "        with urlopen(download_url) as fileres, NamedTemporaryFile() as tfile:\n",
        "            total_length = fileres.headers['content-length']\n",
        "            print(f'Downloading {directory}, {total_length} bytes compressed')\n",
        "            dl = 0\n",
        "            data = fileres.read(CHUNK_SIZE)\n",
        "            while len(data) > 0:\n",
        "                dl += len(data)\n",
        "                tfile.write(data)\n",
        "                done = int(50 * dl / int(total_length))\n",
        "                sys.stdout.write(f\"\\r[{'=' * done}{' ' * (50-done)}] {dl} bytes downloaded\")\n",
        "                sys.stdout.flush()\n",
        "                data = fileres.read(CHUNK_SIZE)\n",
        "            if filename.endswith('.zip'):\n",
        "              with ZipFile(tfile) as zfile:\n",
        "                zfile.extractall(destination_path)\n",
        "            else:\n",
        "              with tarfile.open(tfile.name) as tarfile:\n",
        "                tarfile.extractall(destination_path)\n",
        "            print(f'\\nDownloaded and uncompressed: {directory}')\n",
        "    except HTTPError as e:\n",
        "        print(f'Failed to load (likely expired) {download_url} to path {destination_path}')\n",
        "        continue\n",
        "    except OSError as e:\n",
        "        print(f'Failed to load {download_url} to path {destination_path}')\n",
        "        continue\n",
        "\n",
        "print('Data source import complete.')\n"
      ],
      "metadata": {
        "colab": {
          "base_uri": "https://localhost:8080/"
        },
        "id": "kK7YDQa6zIJt",
        "outputId": "3d68713c-822c-4b9a-d77b-75325925cea8"
      },
      "cell_type": "code",
      "outputs": [
        {
          "output_type": "stream",
          "name": "stdout",
          "text": [
            "Downloading fruit-and-vegetable-image-recognition, 2130757290 bytes compressed\n",
            "[==================================================] 2130757290 bytes downloaded\n",
            "Downloaded and uncompressed: fruit-and-vegetable-image-recognition\n",
            "Data source import complete.\n"
          ]
        }
      ],
      "execution_count": 1
    },
    {
      "cell_type": "code",
      "source": [
        "# This Python 3 environment comes with many helpful analytics libraries installed\n",
        "# It is defined by the kaggle/python Docker image: https://github.com/kaggle/docker-python\n",
        "# For example, here's several helpful packages to load\n",
        "\n",
        "import numpy as np # linear algebra\n",
        "import pandas as pd # data processing, CSV file I/O (e.g. pd.read_csv)\n",
        "import tensorflow as tf\n",
        "from tensorflow import keras\n",
        "import matplotlib.pyplot as plt\n",
        "# Input data files are available in the read-only \"../input/\" directory\n",
        "# For example, running this (by clicking run or pressing Shift+Enter) will list all files under the input directory\n",
        "\n",
        "import os\n",
        "for dirname, _, filenames in os.walk('/kaggle/input'):\n",
        "    for filename in filenames:\n",
        "        print(os.path.join(dirname, filename))\n",
        "\n",
        "# You can write up to 20GB to the current directory (/kaggle/working/) that gets preserved as output when you create a version using \"Save & Run All\"\n",
        "# You can also write temporary files to /kaggle/temp/, but they won't be saved outside of the current session"
      ],
      "metadata": {
        "_uuid": "8f2839f25d086af736a60e9eeb907d3b93b6e0e5",
        "_cell_guid": "b1076dfc-b9ad-4769-8c92-a6c4dae69d19",
        "_kg_hide-input": true,
        "_kg_hide-output": true,
        "execution": {
          "iopub.status.busy": "2023-03-29T09:09:27.534815Z",
          "iopub.execute_input": "2023-03-29T09:09:27.535299Z",
          "iopub.status.idle": "2023-03-29T09:09:27.679638Z",
          "shell.execute_reply.started": "2023-03-29T09:09:27.535258Z",
          "shell.execute_reply": "2023-03-29T09:09:27.678565Z"
        },
        "trusted": true,
        "id": "8d_URoGxzIJ2"
      },
      "execution_count": null,
      "outputs": []
    },
    {
      "cell_type": "markdown",
      "source": [
        "# DATA LOAD"
      ],
      "metadata": {
        "id": "vaActYYczIJ3"
      }
    },
    {
      "cell_type": "code",
      "source": [
        "train_dir = '/kaggle/input/fruit-and-vegetable-image-recognition/train'\n",
        "test_dir = '/kaggle/input/fruit-and-vegetable-image-recognition/test'\n",
        "val_dir = '/kaggle/input/fruit-and-vegetable-image-recognition/validation'"
      ],
      "metadata": {
        "execution": {
          "iopub.status.busy": "2023-03-29T09:09:27.681415Z",
          "iopub.execute_input": "2023-03-29T09:09:27.682078Z",
          "iopub.status.idle": "2023-03-29T09:09:27.687162Z",
          "shell.execute_reply.started": "2023-03-29T09:09:27.68204Z",
          "shell.execute_reply": "2023-03-29T09:09:27.686191Z"
        },
        "trusted": true,
        "id": "1wu-b9-lzIJ5"
      },
      "execution_count": null,
      "outputs": []
    },
    {
      "cell_type": "code",
      "source": [
        "batch_size = 32\n",
        "image_size = 160\n",
        "\n",
        "train_data = tf.keras.preprocessing.image_dataset_from_directory(train_dir,\n",
        "                                                                 image_size=(image_size, image_size),\n",
        "                                                                 batch_size=batch_size)\n",
        "\n",
        "val_data = tf.keras.preprocessing.image_dataset_from_directory(val_dir,\n",
        "                                                                 image_size=(image_size, image_size),\n",
        "                                                                 batch_size=batch_size)"
      ],
      "metadata": {
        "execution": {
          "iopub.status.busy": "2023-03-29T09:09:27.689211Z",
          "iopub.execute_input": "2023-03-29T09:09:27.690067Z",
          "iopub.status.idle": "2023-03-29T09:09:28.658413Z",
          "shell.execute_reply.started": "2023-03-29T09:09:27.690032Z",
          "shell.execute_reply": "2023-03-29T09:09:28.65712Z"
        },
        "trusted": true,
        "id": "Iu60OJf2zIJ5"
      },
      "execution_count": null,
      "outputs": []
    },
    {
      "cell_type": "code",
      "source": [
        "class_name = train_data.class_names\n",
        "print(class_name)"
      ],
      "metadata": {
        "execution": {
          "iopub.status.busy": "2023-03-29T09:09:28.661587Z",
          "iopub.execute_input": "2023-03-29T09:09:28.662692Z",
          "iopub.status.idle": "2023-03-29T09:09:28.669258Z",
          "shell.execute_reply.started": "2023-03-29T09:09:28.66265Z",
          "shell.execute_reply": "2023-03-29T09:09:28.66786Z"
        },
        "trusted": true,
        "id": "Ez86n_d4zIJ6"
      },
      "execution_count": null,
      "outputs": []
    },
    {
      "cell_type": "markdown",
      "source": [
        "image samples visualization"
      ],
      "metadata": {
        "id": "h-CiMSxPzIJ6"
      }
    },
    {
      "cell_type": "code",
      "source": [
        "plt.figure(figsize=(10, 10))\n",
        "\n",
        "for images, labels in train_data.take(1):\n",
        "  for i in range(9):\n",
        "    ax = plt.subplot(3,3,i+1)\n",
        "    plt.imshow(images[i].numpy().astype('uint8'))\n",
        "    plt.title(class_name[labels[i]])\n",
        "    plt.axis('off')\n"
      ],
      "metadata": {
        "execution": {
          "iopub.status.busy": "2023-03-29T09:09:28.671503Z",
          "iopub.execute_input": "2023-03-29T09:09:28.6725Z",
          "iopub.status.idle": "2023-03-29T09:09:39.451967Z",
          "shell.execute_reply.started": "2023-03-29T09:09:28.672457Z",
          "shell.execute_reply": "2023-03-29T09:09:39.449497Z"
        },
        "trusted": true,
        "id": "Q3PctGZ9zIJ7"
      },
      "execution_count": null,
      "outputs": []
    },
    {
      "cell_type": "markdown",
      "source": [
        "check the shape of data"
      ],
      "metadata": {
        "id": "xcH-IxuMzIJ8"
      }
    },
    {
      "cell_type": "code",
      "source": [
        "for image_batch, label_batch in train_data:\n",
        "  print(image_batch.shape)\n",
        "  print(label_batch.shape)\n",
        "  break"
      ],
      "metadata": {
        "execution": {
          "iopub.status.busy": "2023-03-29T09:09:39.453818Z",
          "iopub.execute_input": "2023-03-29T09:09:39.454472Z",
          "iopub.status.idle": "2023-03-29T09:09:46.300513Z",
          "shell.execute_reply.started": "2023-03-29T09:09:39.454436Z",
          "shell.execute_reply": "2023-03-29T09:09:46.299374Z"
        },
        "trusted": true,
        "id": "UTNPq3t4zIJ8"
      },
      "execution_count": null,
      "outputs": []
    },
    {
      "cell_type": "code",
      "source": [
        "first_image = image_batch[0]\n",
        "print(np.min(first_image), np.max(first_image))"
      ],
      "metadata": {
        "execution": {
          "iopub.status.busy": "2023-03-29T09:09:46.301997Z",
          "iopub.execute_input": "2023-03-29T09:09:46.302624Z",
          "iopub.status.idle": "2023-03-29T09:09:46.316449Z",
          "shell.execute_reply.started": "2023-03-29T09:09:46.302582Z",
          "shell.execute_reply": "2023-03-29T09:09:46.314765Z"
        },
        "trusted": true,
        "id": "rHGf8zHGzIJ8"
      },
      "execution_count": null,
      "outputs": []
    },
    {
      "cell_type": "markdown",
      "source": [
        "make data between 0-1"
      ],
      "metadata": {
        "id": "yHJ4zebUzIJ9"
      }
    },
    {
      "cell_type": "code",
      "source": [
        "def format(image, label):\n",
        "  image = tf.cast(image, tf.float32)\n",
        "  image = image/255.0\n",
        "  return image, label"
      ],
      "metadata": {
        "execution": {
          "iopub.status.busy": "2023-03-29T09:09:46.319735Z",
          "iopub.execute_input": "2023-03-29T09:09:46.320002Z",
          "iopub.status.idle": "2023-03-29T09:09:46.326688Z",
          "shell.execute_reply.started": "2023-03-29T09:09:46.319976Z",
          "shell.execute_reply": "2023-03-29T09:09:46.325499Z"
        },
        "trusted": true,
        "id": "UNIB04zizIJ9"
      },
      "execution_count": null,
      "outputs": []
    },
    {
      "cell_type": "code",
      "source": [
        "train = train_data.map(format)\n",
        "validation = val_data.map(format)"
      ],
      "metadata": {
        "execution": {
          "iopub.status.busy": "2023-03-29T09:09:46.328259Z",
          "iopub.execute_input": "2023-03-29T09:09:46.329107Z",
          "iopub.status.idle": "2023-03-29T09:09:46.352743Z",
          "shell.execute_reply.started": "2023-03-29T09:09:46.329067Z",
          "shell.execute_reply": "2023-03-29T09:09:46.351861Z"
        },
        "trusted": true,
        "id": "OXE29JyCzIJ9"
      },
      "execution_count": null,
      "outputs": []
    },
    {
      "cell_type": "code",
      "source": [
        "for format_image_batch, format_label_batch in train:\n",
        "  print(format_image_batch.shape)\n",
        "  print(format_label_batch.shape)\n",
        "  break"
      ],
      "metadata": {
        "execution": {
          "iopub.status.busy": "2023-03-29T09:09:46.356953Z",
          "iopub.execute_input": "2023-03-29T09:09:46.357214Z",
          "iopub.status.idle": "2023-03-29T09:09:53.316168Z",
          "shell.execute_reply.started": "2023-03-29T09:09:46.35719Z",
          "shell.execute_reply": "2023-03-29T09:09:53.315108Z"
        },
        "trusted": true,
        "id": "TzdjCWaozIJ9"
      },
      "execution_count": null,
      "outputs": []
    },
    {
      "cell_type": "code",
      "source": [
        "format_first_image = format_image_batch[0]\n",
        "print(np.min(format_first_image), np.max(format_first_image))"
      ],
      "metadata": {
        "execution": {
          "iopub.status.busy": "2023-03-29T09:09:53.317784Z",
          "iopub.execute_input": "2023-03-29T09:09:53.318265Z",
          "iopub.status.idle": "2023-03-29T09:09:53.330239Z",
          "shell.execute_reply.started": "2023-03-29T09:09:53.318216Z",
          "shell.execute_reply": "2023-03-29T09:09:53.329079Z"
        },
        "trusted": true,
        "id": "QWqw9oCkzIJ-"
      },
      "execution_count": null,
      "outputs": []
    },
    {
      "cell_type": "markdown",
      "source": [
        "# MODELING"
      ],
      "metadata": {
        "id": "dXAwDSObzIJ-"
      }
    },
    {
      "cell_type": "markdown",
      "source": [
        "use MobileNetV2"
      ],
      "metadata": {
        "id": "kOV5Q_2ezIJ-"
      }
    },
    {
      "cell_type": "code",
      "source": [
        "base_model = tf.keras.applications.MobileNetV2(input_shape = (image_size, image_size, 3),\n",
        "                                               include_top = False,\n",
        "                                               weights = 'imagenet')"
      ],
      "metadata": {
        "execution": {
          "iopub.status.busy": "2023-03-29T09:09:53.33194Z",
          "iopub.execute_input": "2023-03-29T09:09:53.332362Z",
          "iopub.status.idle": "2023-03-29T09:09:54.498112Z",
          "shell.execute_reply.started": "2023-03-29T09:09:53.332317Z",
          "shell.execute_reply": "2023-03-29T09:09:54.496664Z"
        },
        "trusted": true,
        "id": "Db-E8Z5CzIJ-"
      },
      "execution_count": null,
      "outputs": []
    },
    {
      "cell_type": "markdown",
      "source": [
        "size check"
      ],
      "metadata": {
        "id": "t0T_abXfzIJ-"
      }
    },
    {
      "cell_type": "code",
      "source": [
        "feature_batch = base_model(image_batch)\n",
        "print(feature_batch.shape)"
      ],
      "metadata": {
        "execution": {
          "iopub.status.busy": "2023-03-29T09:09:54.501929Z",
          "iopub.execute_input": "2023-03-29T09:09:54.502214Z",
          "iopub.status.idle": "2023-03-29T09:09:54.582978Z",
          "shell.execute_reply.started": "2023-03-29T09:09:54.502186Z",
          "shell.execute_reply": "2023-03-29T09:09:54.5819Z"
        },
        "trusted": true,
        "id": "IMKwDoP_zIJ_"
      },
      "execution_count": null,
      "outputs": []
    },
    {
      "cell_type": "code",
      "source": [
        "base_model.summary()"
      ],
      "metadata": {
        "execution": {
          "iopub.status.busy": "2023-03-29T09:09:54.584261Z",
          "iopub.execute_input": "2023-03-29T09:09:54.584619Z",
          "iopub.status.idle": "2023-03-29T09:09:54.893185Z",
          "shell.execute_reply.started": "2023-03-29T09:09:54.584583Z",
          "shell.execute_reply": "2023-03-29T09:09:54.892417Z"
        },
        "trusted": true,
        "id": "HyoGOqUlzIJ_"
      },
      "execution_count": null,
      "outputs": []
    },
    {
      "cell_type": "code",
      "source": [
        "global_average_layer = tf.keras.layers.GlobalAveragePooling2D()\n",
        "feature_batch_average = global_average_layer(feature_batch)\n",
        "print(feature_batch_average.shape)"
      ],
      "metadata": {
        "execution": {
          "iopub.status.busy": "2023-03-29T09:09:54.89416Z",
          "iopub.execute_input": "2023-03-29T09:09:54.894526Z",
          "iopub.status.idle": "2023-03-29T09:09:54.903367Z",
          "shell.execute_reply.started": "2023-03-29T09:09:54.89449Z",
          "shell.execute_reply": "2023-03-29T09:09:54.902588Z"
        },
        "trusted": true,
        "id": "8KR28KaHzIJ_"
      },
      "execution_count": null,
      "outputs": []
    },
    {
      "cell_type": "code",
      "source": [
        "prediction_layer = keras.layers.Dense(36)\n",
        "prediction_batch = prediction_layer(feature_batch_average)\n",
        "print(prediction_batch.shape)"
      ],
      "metadata": {
        "execution": {
          "iopub.status.busy": "2023-03-29T09:09:54.904664Z",
          "iopub.execute_input": "2023-03-29T09:09:54.904977Z",
          "iopub.status.idle": "2023-03-29T09:09:54.934654Z",
          "shell.execute_reply.started": "2023-03-29T09:09:54.904944Z",
          "shell.execute_reply": "2023-03-29T09:09:54.933878Z"
        },
        "trusted": true,
        "id": "-vyds9TozIJ_"
      },
      "execution_count": null,
      "outputs": []
    },
    {
      "cell_type": "code",
      "source": [
        "model = tf.keras.Sequential([\n",
        "        base_model,\n",
        "        global_average_layer,\n",
        "        prediction_layer\n",
        "])"
      ],
      "metadata": {
        "execution": {
          "iopub.status.busy": "2023-03-29T09:09:54.936001Z",
          "iopub.execute_input": "2023-03-29T09:09:54.936353Z",
          "iopub.status.idle": "2023-03-29T09:09:55.494292Z",
          "shell.execute_reply.started": "2023-03-29T09:09:54.936318Z",
          "shell.execute_reply": "2023-03-29T09:09:55.493294Z"
        },
        "trusted": true,
        "id": "mcDufvxszIKA"
      },
      "execution_count": null,
      "outputs": []
    },
    {
      "cell_type": "code",
      "source": [
        "learning_rate = 0.0001\n",
        "model.compile(optimizer=tf.keras.optimizers.RMSprop(learning_rate=learning_rate),\n",
        "              loss=tf.keras.losses.SparseCategoricalCrossentropy(from_logits=True),\n",
        "              metrics=['accuracy'])"
      ],
      "metadata": {
        "execution": {
          "iopub.status.busy": "2023-03-29T09:09:55.495949Z",
          "iopub.execute_input": "2023-03-29T09:09:55.496351Z",
          "iopub.status.idle": "2023-03-29T09:09:55.513502Z",
          "shell.execute_reply.started": "2023-03-29T09:09:55.496312Z",
          "shell.execute_reply": "2023-03-29T09:09:55.512583Z"
        },
        "trusted": true,
        "id": "Qz_o47mLzIKA"
      },
      "execution_count": null,
      "outputs": []
    },
    {
      "cell_type": "code",
      "source": [
        "history = model.fit(train,\n",
        "                    epochs=20,\n",
        "                    validation_data=validation)"
      ],
      "metadata": {
        "execution": {
          "iopub.status.busy": "2023-03-29T09:09:55.516249Z",
          "iopub.execute_input": "2023-03-29T09:09:55.517233Z",
          "iopub.status.idle": "2023-03-29T09:35:08.869221Z",
          "shell.execute_reply.started": "2023-03-29T09:09:55.517198Z",
          "shell.execute_reply": "2023-03-29T09:35:08.868125Z"
        },
        "trusted": true,
        "id": "pamc9NT2zIKA"
      },
      "execution_count": null,
      "outputs": []
    },
    {
      "cell_type": "markdown",
      "source": [
        "# MODEL EVALUATE"
      ],
      "metadata": {
        "id": "rt0M-tn2zIKA"
      }
    },
    {
      "cell_type": "code",
      "source": [
        "def plot_graghs(history, metric):\n",
        "  plt.plot(history.history[metric])\n",
        "  plt.plot(history.history['val_'+metric], '')\n",
        "  plt.xlabel('Epochs')\n",
        "  plt.ylabel(metric)\n",
        "  plt.legend([metric, 'val_'+metric])\n",
        "  plt.show()"
      ],
      "metadata": {
        "execution": {
          "iopub.status.busy": "2023-03-29T09:35:08.87103Z",
          "iopub.execute_input": "2023-03-29T09:35:08.871441Z",
          "iopub.status.idle": "2023-03-29T09:35:08.877165Z",
          "shell.execute_reply.started": "2023-03-29T09:35:08.871388Z",
          "shell.execute_reply": "2023-03-29T09:35:08.876028Z"
        },
        "trusted": true,
        "id": "A45_0D2QzIKA"
      },
      "execution_count": null,
      "outputs": []
    },
    {
      "cell_type": "code",
      "source": [
        "plot_graghs(history, 'accuracy')"
      ],
      "metadata": {
        "execution": {
          "iopub.status.busy": "2023-03-29T09:35:08.879682Z",
          "iopub.execute_input": "2023-03-29T09:35:08.880468Z",
          "iopub.status.idle": "2023-03-29T09:35:09.1355Z",
          "shell.execute_reply.started": "2023-03-29T09:35:08.880394Z",
          "shell.execute_reply": "2023-03-29T09:35:09.134461Z"
        },
        "trusted": true,
        "id": "DwoTSuNTzIKA"
      },
      "execution_count": null,
      "outputs": []
    },
    {
      "cell_type": "code",
      "source": [
        "plot_graghs(history, 'loss')"
      ],
      "metadata": {
        "execution": {
          "iopub.status.busy": "2023-03-29T09:35:09.137097Z",
          "iopub.execute_input": "2023-03-29T09:35:09.137455Z",
          "iopub.status.idle": "2023-03-29T09:35:09.369314Z",
          "shell.execute_reply.started": "2023-03-29T09:35:09.137402Z",
          "shell.execute_reply": "2023-03-29T09:35:09.368381Z"
        },
        "trusted": true,
        "id": "sgcGDYabzIKA"
      },
      "execution_count": null,
      "outputs": []
    },
    {
      "cell_type": "code",
      "source": [
        "test_data = tf.keras.preprocessing.image_dataset_from_directory(test_dir,\n",
        "                                                                image_size=(image_size, image_size),\n",
        "                                                                batch_size = batch_size,\n",
        "                                                                shuffle=False)"
      ],
      "metadata": {
        "execution": {
          "iopub.status.busy": "2023-03-29T09:35:09.371205Z",
          "iopub.execute_input": "2023-03-29T09:35:09.372015Z",
          "iopub.status.idle": "2023-03-29T09:35:09.726268Z",
          "shell.execute_reply.started": "2023-03-29T09:35:09.371977Z",
          "shell.execute_reply": "2023-03-29T09:35:09.725194Z"
        },
        "trusted": true,
        "id": "_sSBl5rvzIKB"
      },
      "execution_count": null,
      "outputs": []
    },
    {
      "cell_type": "markdown",
      "source": [
        "# TEST"
      ],
      "metadata": {
        "id": "rqC3Diw5zIKB"
      }
    },
    {
      "cell_type": "code",
      "source": [
        "test = test_data.map(format)"
      ],
      "metadata": {
        "execution": {
          "iopub.status.busy": "2023-03-29T09:35:09.729498Z",
          "iopub.execute_input": "2023-03-29T09:35:09.729777Z",
          "iopub.status.idle": "2023-03-29T09:35:09.745608Z",
          "shell.execute_reply.started": "2023-03-29T09:35:09.72975Z",
          "shell.execute_reply": "2023-03-29T09:35:09.744685Z"
        },
        "trusted": true,
        "id": "zatasytIzIKB"
      },
      "execution_count": null,
      "outputs": []
    },
    {
      "cell_type": "code",
      "source": [
        "result = model.evaluate(test)\n",
        "print(\"Test loss, Test accuracy : \", result)"
      ],
      "metadata": {
        "execution": {
          "iopub.status.busy": "2023-03-29T09:35:09.748876Z",
          "iopub.execute_input": "2023-03-29T09:35:09.749142Z",
          "iopub.status.idle": "2023-03-29T09:35:20.019834Z",
          "shell.execute_reply.started": "2023-03-29T09:35:09.749117Z",
          "shell.execute_reply": "2023-03-29T09:35:20.018877Z"
        },
        "trusted": true,
        "id": "oV88EBd7zIKB"
      },
      "execution_count": null,
      "outputs": []
    }
  ]
}